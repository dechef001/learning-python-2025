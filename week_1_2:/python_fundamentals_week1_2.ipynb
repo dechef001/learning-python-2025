{
 "cells": [
  {
   "cell_type": "markdown",
   "id": "f0f6c008",
   "metadata": {},
   "source": [
    "# Python Fundamentals – Week 1–2\n",
    "\n",
    "Welkom bij het mini-werkboek voor het opfrissen van je Python-basis. Elke dag bevat een korte uitleg en een aantal opdrachten. Je kunt alle opdrachten in deze notebook maken."
   ]
  },
  {
   "cell_type": "markdown",
   "id": "c5b19d9e",
   "metadata": {},
   "source": [
    "## 📅 Dag 1 – Variabelen & Datatypes\n",
    "\n",
    "Vandaag leer je hoe je variabelen gebruikt en welke basisdatatypes er zijn: `int`, `float`, `str`, `bool`.\n",
    "\n",
    "### ✍️ Opdrachten:\n",
    "1. Maak vier variabelen: een geheel getal, een decimaal getal, een tekst, en een boolean.\n",
    "2. Print het datatype van elk van deze variabelen met `type()`.\n",
    "3. Converteer een `int` naar `str` en omgekeerd.\n",
    "4. Optioneel: maak een mini-BMI-calculator met gewicht/lengte."
   ]
  },
  {
   "cell_type": "code",
   "execution_count": null,
   "id": "75f14f9f",
   "metadata": {},
   "outputs": [],
   "source": [
    "# Jouw code hier\n"
   ]
  },
  {
   "cell_type": "markdown",
   "id": "d28fd7e1",
   "metadata": {},
   "source": [
    "## 📅 Dag 2 – Operatoren\n",
    "\n",
    "Gebruik rekenkundige, vergelijkings- en logische operatoren in Python.\n",
    "\n",
    "### ✍️ Opdrachten:\n",
    "1. Schrijf een berekening met `+`, `-`, `*`, `/`, `//`, `%`, `**`.\n",
    "2. Vergelijk twee getallen met `==`, `!=`, `>`, `<` enz.\n",
    "3. Maak twee booleans en combineer ze met `and`, `or`, `not`.\n",
    "4. Maak een kleine rekenmachine die twee getallen optelt."
   ]
  },
  {
   "cell_type": "code",
   "execution_count": null,
   "id": "95496f2a",
   "metadata": {},
   "outputs": [],
   "source": [
    "# Jouw code hier\n"
   ]
  },
  {
   "cell_type": "markdown",
   "id": "2cac5ff0",
   "metadata": {},
   "source": [
    "## 📅 Dag 3 – If/Else & Loops\n",
    "\n",
    "Leer beslissingen maken met `if/else` en herhalen met `for` en `while`.\n",
    "\n",
    "### ✍️ Opdrachten:\n",
    "1. Vraag om een leeftijd en print of iemand meerderjarig is.\n",
    "2. Print alle even getallen van 0 t/m 20 met een `for`-loop.\n",
    "3. Gebruik een `while`-loop om tot 10 te tellen.\n",
    "4. Bonus: schrijf een `for`-loop met een `if`-voorwaarde erin."
   ]
  },
  {
   "cell_type": "code",
   "execution_count": null,
   "id": "5a09b06f",
   "metadata": {},
   "outputs": [],
   "source": [
    "# Jouw code hier\n"
   ]
  },
  {
   "cell_type": "markdown",
   "id": "b4b012dd",
   "metadata": {},
   "source": [
    "## 📅 Dag 4 – Functies\n",
    "\n",
    "Functies geven structuur aan je code. Vandaag maak je je eigen functies.\n",
    "\n",
    "### ✍️ Opdrachten:\n",
    "1. Schrijf een functie `kwadraat()` die een getal kwadrateert.\n",
    "2. Maak een functie die controleert of iemand mag stemmen (18+).\n",
    "3. Maak een functie met 2 parameters (naam + leeftijd) en print iets leuks.\n",
    "4. Bonus: maak een functie die een BMI-berekening uitvoert."
   ]
  },
  {
   "cell_type": "code",
   "execution_count": null,
   "id": "f32c2ea7",
   "metadata": {},
   "outputs": [],
   "source": [
    "# Jouw code hier\n"
   ]
  },
  {
   "cell_type": "markdown",
   "id": "1f4acee9",
   "metadata": {},
   "source": [
    "## 📅 Dag 5 – Lijsten en Dictionaries\n",
    "\n",
    "Leer hoe je meerdere waarden opslaat in een lijst of dictionary.\n",
    "\n",
    "### ✍️ Opdrachten:\n",
    "1. Maak een lijst van 5 boodschappen en print de eerste en laatste.\n",
    "2. Voeg iets toe aan de lijst, verwijder iets en sorteer hem.\n",
    "3. Maak een dictionary met 3 producten en hun prijs.\n",
    "4. Print de totaalprijs van alle producten samen."
   ]
  },
  {
   "cell_type": "code",
   "execution_count": null,
   "id": "53c0e63f",
   "metadata": {},
   "outputs": [],
   "source": [
    "# Jouw code hier\n"
   ]
  },
  {
   "cell_type": "markdown",
   "id": "035b25e0",
   "metadata": {},
   "source": [
    "## 📅 Dag 6 – Input & Foutafhandeling\n",
    "\n",
    "Laat gebruikers invoer geven en verwerk die veilig met `try-except`.\n",
    "\n",
    "### ✍️ Opdrachten:\n",
    "1. Vraag de gebruiker om zijn/haar naam en print een begroeting.\n",
    "2. Vraag een getal en bereken het kwadraat ervan.\n",
    "3. Gebruik `try-except` om fouten te vangen als iemand iets verkeerds invoert.\n",
    "4. Bonus: maak een input-lus die stopt bij 'stop'."
   ]
  },
  {
   "cell_type": "code",
   "execution_count": null,
   "id": "882bb14e",
   "metadata": {},
   "outputs": [],
   "source": [
    "# Jouw code hier\n"
   ]
  },
  {
   "cell_type": "markdown",
   "id": "a1edd656",
   "metadata": {},
   "source": [
    "## 📅 Dag 7 – Herhaling & Mini-project\n",
    "\n",
    "Gebruik vandaag je kennis in een klein project.\n",
    "\n",
    "### 💡 Mini-projectidee: Rekenmachine\n",
    "- Vraag twee getallen aan de gebruiker\n",
    "- Vraag wat hij/zij wil doen (+, -, *, /)\n",
    "- Gebruik functies om de berekeningen te doen\n",
    "- Gebruik `try-except` om fouten te vangen\n",
    "- Print het resultaat\n",
    "\n",
    "Veel succes! 🚀"
   ]
  },
  {
   "cell_type": "code",
   "execution_count": null,
   "id": "a074de94",
   "metadata": {},
   "outputs": [],
   "source": [
    "# Jouw code hier\n"
   ]
  }
 ],
 "metadata": {},
 "nbformat": 4,
 "nbformat_minor": 5
}
